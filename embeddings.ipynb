{
 "cells": [
  {
   "cell_type": "code",
   "execution_count": 11,
   "metadata": {},
   "outputs": [],
   "source": [
    "import numpy as np\n",
    "import pandas as pd\n",
    "from sentence_transformers import SentenceTransformer"
   ]
  },
  {
   "cell_type": "code",
   "execution_count": 2,
   "metadata": {},
   "outputs": [],
   "source": [
    "chunks = [\n",
    "    \"OpenAI, creator of ChatGPT, is renowned for its advancements in natural language processing and ethical AI development.\",\n",
    "    \"DeepMind, a subsidiary of Alphabet, has made significant breakthroughs in AI through projects like AlphaGo and its healthcare research.\",\n",
    "    \"IBM’s Watson became famous for its ability to defeat human champions in the game show 'Jeopardy!' and is now applied in industries like healthcare and finance.\",\n",
    "    \"Nvidia, initially known for its graphics cards, now plays a crucial role in AI hardware with its powerful GPUs for deep learning processes.\",\n",
    "    \"Palantir Technologies specializes in big data analytics, providing AI-driven solutions to government and financial sectors for complex data environments.\",\n",
    "    \"Baidu, often referred to as the 'Google of China,' invests heavily in AI, focusing on autonomous driving and natural language processing.\",\n",
    "    \"Salesforce uses AI to enhance CRM through Einstein, an integrated AI that automates data entry, predicts sales, and personalizes customer interactions.\",\n",
    "    \"Boston Dynamics, known for its robotic designs, integrates AI into robots that can navigate complex environments and perform tasks autonomously.\",\n",
    "    \"H2O.ai provides an open-source platform for machine learning that helps businesses easily apply AI to solve real-world problems like risk analysis.\",\n",
    "    \"UiPath designs software robots that use AI to automate repetitive office tasks, improving efficiency in business operations.\",\n",
    "    \"SenseTime excels in computer vision technology, developing applications for facial recognition, surveillance, and autonomous driving in Asia.\",\n",
    "    \"Zoox, a subsidiary of Amazon, focuses on creating autonomous vehicles fully powered by AI, aiming for a safer and more efficient transportation system.\",\n",
    "    \"Tempus Labs uses AI to analyze clinical data and molecular data to personalize cancer treatments, contributing to advancements in precision medicine.\",\n",
    "    \"C3.ai provides AI software applications for enterprises to accelerate digital transformation, focusing on industries like energy and aerospace.\",\n",
    "    \"Element AI, based in Canada, was acquired by ServiceNow to enhance its AI capabilities in IT service management and workflow automation.\",\n",
    "    \"BenevolentAI uses artificial intelligence to accelerate drug discovery and development, reducing the time and cost typically associated with these processes.\",\n",
    "    \"Neuralink, co-founded by Elon Musk, aims to develop ultra-high bandwidth brain-machine interfaces to connect humans and computers.\",\n",
    "    \"Waymo, another Alphabet subsidiary, leads in developing self-driving technology, aiming to make roads safer and transportation more accessible.\",\n",
    "    \"Zebra Medical Vision uses AI to read medical imaging, helping doctors detect diseases earlier with higher accuracy.\",\n",
    "    \"Vicarious focuses on developing artificial general intelligence with robots that can improve their efficiency over time through machine learning.\"\n",
    "]\n"
   ]
  },
  {
   "cell_type": "code",
   "execution_count": 3,
   "metadata": {},
   "outputs": [],
   "source": [
    "model = SentenceTransformer('paraphrase-MiniLM-L6-v2')"
   ]
  },
  {
   "cell_type": "code",
   "execution_count": 4,
   "metadata": {},
   "outputs": [
    {
     "data": {
      "text/plain": [
       "(20, 384)"
      ]
     },
     "execution_count": 4,
     "metadata": {},
     "output_type": "execute_result"
    }
   ],
   "source": [
    "# Compute raw embeddings\n",
    "embeddings = model.encode(chunks)\n",
    "embeddings.shape"
   ]
  },
  {
   "cell_type": "code",
   "execution_count": 5,
   "metadata": {},
   "outputs": [
    {
     "data": {
      "text/plain": [
       "(1, 384)"
      ]
     },
     "execution_count": 5,
     "metadata": {},
     "output_type": "execute_result"
    }
   ],
   "source": [
    "# Compute embedding of the query\n",
    "query = model.encode([\"Elon Musk\"])\n",
    "query.shape"
   ]
  },
  {
   "cell_type": "code",
   "execution_count": 6,
   "metadata": {},
   "outputs": [],
   "source": [
    "simlarity = np.abs(query.dot(embeddings.T))"
   ]
  },
  {
   "cell_type": "code",
   "execution_count": 7,
   "metadata": {},
   "outputs": [
    {
     "data": {
      "text/plain": [
       "array([[ 2.8616154 ,  4.6624846 ,  0.8129965 ,  6.7930264 ,  1.3005363 ,\n",
       "         0.90208423,  2.079529  ,  2.2654073 ,  0.23510405,  2.0436993 ,\n",
       "         0.06035659,  3.2013414 ,  0.2884987 ,  0.24981087,  2.8758595 ,\n",
       "         1.2916597 , 15.49442   ,  3.331945  ,  6.759242  ,  1.0686808 ]],\n",
       "      dtype=float32)"
      ]
     },
     "execution_count": 7,
     "metadata": {},
     "output_type": "execute_result"
    }
   ],
   "source": [
    "key = np.random.permutation(embeddings.shape[1])\n",
    "\n",
    "enc_query = query[:, key]\n",
    "enc_embeddings = embeddings[:, key]\n",
    "\n",
    "enc_similarity = np.abs(enc_query.dot(enc_embeddings.T))\n",
    "\n",
    "enc_similarity"
   ]
  },
  {
   "cell_type": "code",
   "execution_count": 10,
   "metadata": {},
   "outputs": [
    {
     "data": {
      "text/plain": [
       "array([[ True,  True,  True,  True,  True,  True,  True,  True,  True,\n",
       "         True,  True,  True,  True,  True,  True,  True,  True,  True,\n",
       "         True,  True]])"
      ]
     },
     "execution_count": 10,
     "metadata": {},
     "output_type": "execute_result"
    }
   ],
   "source": [
    "(simlarity - enc_similarity) < 0.001"
   ]
  },
  {
   "cell_type": "code",
   "execution_count": 28,
   "metadata": {},
   "outputs": [
    {
     "data": {
      "text/html": [
       "<div>\n",
       "<style scoped>\n",
       "    .dataframe tbody tr th:only-of-type {\n",
       "        vertical-align: middle;\n",
       "    }\n",
       "\n",
       "    .dataframe tbody tr th {\n",
       "        vertical-align: top;\n",
       "    }\n",
       "\n",
       "    .dataframe thead th {\n",
       "        text-align: right;\n",
       "    }\n",
       "</style>\n",
       "<table border=\"1\" class=\"dataframe\">\n",
       "  <thead>\n",
       "    <tr style=\"text-align: right;\">\n",
       "      <th></th>\n",
       "      <th>Data</th>\n",
       "      <th>Embeddings</th>\n",
       "      <th>Salty Embeddings</th>\n",
       "      <th>Similarity</th>\n",
       "      <th>Salty Similarity</th>\n",
       "    </tr>\n",
       "  </thead>\n",
       "  <tbody>\n",
       "    <tr>\n",
       "      <th>16</th>\n",
       "      <td>Neuralink, co-founded by Elon Musk, aims to de...</td>\n",
       "      <td>[-0.4, -0.49, -0.15, -0.17, -0.19, -0.17, -0.2...</td>\n",
       "      <td>[0.16, -0.02, 0.63, -0.03, -0.01, 0.06, -0.28,...</td>\n",
       "      <td>15.49</td>\n",
       "      <td>15.49</td>\n",
       "    </tr>\n",
       "    <tr>\n",
       "      <th>3</th>\n",
       "      <td>Nvidia, initially known for its graphics cards...</td>\n",
       "      <td>[-0.21, -0.38, -0.64, -0.04, 0.12, 0.16, -0.3,...</td>\n",
       "      <td>[0.05, -0.16, 0.47, 0.21, 0.21, 0.19, 0.14, 0....</td>\n",
       "      <td>6.79</td>\n",
       "      <td>6.79</td>\n",
       "    </tr>\n",
       "    <tr>\n",
       "      <th>18</th>\n",
       "      <td>Zebra Medical Vision uses AI to read medical i...</td>\n",
       "      <td>[-0.14, -0.32, -0.39, -0.15, -0.03, 0.09, 0.33...</td>\n",
       "      <td>[-0.16, -0.04, 0.68, 0.32, 0.4, -0.03, 0.45, 0...</td>\n",
       "      <td>6.76</td>\n",
       "      <td>6.76</td>\n",
       "    </tr>\n",
       "    <tr>\n",
       "      <th>1</th>\n",
       "      <td>DeepMind, a subsidiary of Alphabet, has made s...</td>\n",
       "      <td>[-0.31, -0.18, -0.28, -0.32, -0.02, 0.05, -0.5...</td>\n",
       "      <td>[0.24, 0.09, 0.5, 0.5, 0.03, -0.36, -0.08, 0.3...</td>\n",
       "      <td>4.66</td>\n",
       "      <td>4.66</td>\n",
       "    </tr>\n",
       "    <tr>\n",
       "      <th>17</th>\n",
       "      <td>Waymo, another Alphabet subsidiary, leads in d...</td>\n",
       "      <td>[0.03, -0.01, 0.1, -0.14, -0.22, -0.27, -0.12,...</td>\n",
       "      <td>[-0.27, -0.21, 0.18, 0.69, 0.02, -0.49, -0.19,...</td>\n",
       "      <td>3.33</td>\n",
       "      <td>3.33</td>\n",
       "    </tr>\n",
       "  </tbody>\n",
       "</table>\n",
       "</div>"
      ],
      "text/plain": [
       "                                                 Data  \\\n",
       "16  Neuralink, co-founded by Elon Musk, aims to de...   \n",
       "3   Nvidia, initially known for its graphics cards...   \n",
       "18  Zebra Medical Vision uses AI to read medical i...   \n",
       "1   DeepMind, a subsidiary of Alphabet, has made s...   \n",
       "17  Waymo, another Alphabet subsidiary, leads in d...   \n",
       "\n",
       "                                           Embeddings  \\\n",
       "16  [-0.4, -0.49, -0.15, -0.17, -0.19, -0.17, -0.2...   \n",
       "3   [-0.21, -0.38, -0.64, -0.04, 0.12, 0.16, -0.3,...   \n",
       "18  [-0.14, -0.32, -0.39, -0.15, -0.03, 0.09, 0.33...   \n",
       "1   [-0.31, -0.18, -0.28, -0.32, -0.02, 0.05, -0.5...   \n",
       "17  [0.03, -0.01, 0.1, -0.14, -0.22, -0.27, -0.12,...   \n",
       "\n",
       "                                     Salty Embeddings  Similarity  \\\n",
       "16  [0.16, -0.02, 0.63, -0.03, -0.01, 0.06, -0.28,...       15.49   \n",
       "3   [0.05, -0.16, 0.47, 0.21, 0.21, 0.19, 0.14, 0....        6.79   \n",
       "18  [-0.16, -0.04, 0.68, 0.32, 0.4, -0.03, 0.45, 0...        6.76   \n",
       "1   [0.24, 0.09, 0.5, 0.5, 0.03, -0.36, -0.08, 0.3...        4.66   \n",
       "17  [-0.27, -0.21, 0.18, 0.69, 0.02, -0.49, -0.19,...        3.33   \n",
       "\n",
       "    Salty Similarity  \n",
       "16             15.49  \n",
       "3               6.79  \n",
       "18              6.76  \n",
       "1               4.66  \n",
       "17              3.33  "
      ]
     },
     "execution_count": 28,
     "metadata": {},
     "output_type": "execute_result"
    }
   ],
   "source": [
    "df = pd.DataFrame()\n",
    "df['Data'] = chunks\n",
    "df['Embeddings'] = list(embeddings.round(2))\n",
    "df['Salty Embeddings'] = list(enc_embeddings.round(2))\n",
    "df['Similarity'] = simlarity.T.round(2)\n",
    "df['Salty Similarity'] = enc_similarity.T.round(2)\n",
    "df.sort_values('Similarity', ascending=False).head()"
   ]
  },
  {
   "cell_type": "code",
   "execution_count": null,
   "metadata": {},
   "outputs": [],
   "source": []
  }
 ],
 "metadata": {
  "kernelspec": {
   "display_name": "mongodb",
   "language": "python",
   "name": "python3"
  },
  "language_info": {
   "codemirror_mode": {
    "name": "ipython",
    "version": 3
   },
   "file_extension": ".py",
   "mimetype": "text/x-python",
   "name": "python",
   "nbconvert_exporter": "python",
   "pygments_lexer": "ipython3",
   "version": "3.10.13"
  }
 },
 "nbformat": 4,
 "nbformat_minor": 2
}
